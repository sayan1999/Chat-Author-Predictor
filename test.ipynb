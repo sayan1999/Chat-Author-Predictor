{
 "cells": [
  {
   "cell_type": "markdown",
   "metadata": {},
   "source": [
    "# Experimental sentence-author prediction"
   ]
  },
  {
   "cell_type": "code",
   "execution_count": null,
   "metadata": {},
   "outputs": [],
   "source": [
    "import pickle\n",
    "with open('./objects/label.obj', 'rb') as label_file:\n",
    "    label=pickle.load(label_file)\n",
    "with open('./objects/model.obj', 'rb') as model_file:\n",
    "    clf_lr=pickle.load(model_file)\n",
    "with open('./objects/vect.obj', 'rb') as vect_file:\n",
    "    vect=pickle.load(vect_file)"
   ]
  },
  {
   "cell_type": "code",
   "execution_count": null,
   "metadata": {},
   "outputs": [],
   "source": [
    "# Change the sentence string for more experimentations\n",
    "sentence = ['sayan', 'sonali', 'vrushali', 'court aa jao', 'cute', 'chalo', 'Do we have class today?', 'Do we have class tomorrow?' ]\n",
    "\n",
    "print(label.inverse_transform(clf_lr.predict(vect.transform(sentence).toarray())))"
   ]
  }
 ],
 "metadata": {
  "kernelspec": {
   "display_name": "Python 3",
   "language": "python",
   "name": "python3"
  },
  "language_info": {
   "codemirror_mode": {
    "name": "ipython",
    "version": 3
   },
   "file_extension": ".py",
   "mimetype": "text/x-python",
   "name": "python",
   "nbconvert_exporter": "python",
   "pygments_lexer": "ipython3",
   "version": "3.6.9"
  }
 },
 "nbformat": 4,
 "nbformat_minor": 2
}
