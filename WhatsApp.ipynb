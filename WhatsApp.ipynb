{
 "cells": [
  {
   "cell_type": "markdown",
   "metadata": {},
   "source": [
    "# Imports"
   ]
  },
  {
   "cell_type": "code",
   "execution_count": null,
   "metadata": {},
   "outputs": [],
   "source": [
    "from collections import Counter, OrderedDict\n",
    "from nltk.corpus import stopwords\n",
    "from string import punctuation\n",
    "import pandas as pd\n",
    "import emoji"
   ]
  },
  {
   "cell_type": "markdown",
   "metadata": {},
   "source": [
    "# Read the exported whatsapp chats"
   ]
  },
  {
   "cell_type": "code",
   "execution_count": null,
   "metadata": {},
   "outputs": [],
   "source": [
    "import os\n",
    "textfiles = ['./dataset/' + filename for filename in os.listdir('./dataset')]\n",
    "textfiles"
   ]
  },
  {
   "cell_type": "markdown",
   "metadata": {},
   "source": [
    "# Utils-function"
   ]
  },
  {
   "cell_type": "code",
   "execution_count": null,
   "metadata": {},
   "outputs": [],
   "source": [
    "def readfile(textfile):\n",
    "    file = open(textfile, 'r')\n",
    "    text = file.readlines()\n",
    "    file.close()\n",
    "    return text"
   ]
  },
  {
   "cell_type": "code",
   "execution_count": null,
   "metadata": {},
   "outputs": [],
   "source": [
    "def format(line):\n",
    "    formatted = dict()\n",
    "    if ' - ' not in line or ', ' not in line or ': ' not in line:\n",
    "        return None\n",
    "    \n",
    "    try:\n",
    "        datetime, raw = line.split(' - ', 1)\n",
    "        date, time = datetime.split(', ', 1)\n",
    "    \n",
    "    except ValueError:\n",
    "        print(line)\n",
    "        return None\n",
    "    \n",
    "    if ': ' in raw:\n",
    "        linemessage = raw.split(': ', 1)        \n",
    "        if linemessage[1] == '<Media omitted>\\n':\n",
    "            return None\n",
    "        \n",
    "        author = linemessage[0]\n",
    "        message = linemessage[1]\n",
    "        return {'Date' : date, 'Time' : time, 'Author' : author, 'Message' : message}\n",
    "    return None"
   ]
  },
  {
   "cell_type": "code",
   "execution_count": null,
   "metadata": {},
   "outputs": [],
   "source": [
    "def construct_dataframe(data, textfile):\n",
    "    for line in readfile(textfile):\n",
    "        formatted = format(line)\n",
    "        if formatted != None:\n",
    "            data=data.append(formatted, ignore_index=True)\n",
    "    return data"
   ]
  },
  {
   "cell_type": "markdown",
   "metadata": {},
   "source": [
    "# main"
   ]
  },
  {
   "cell_type": "code",
   "execution_count": null,
   "metadata": {},
   "outputs": [],
   "source": [
    "data = pd.DataFrame(columns = ['Date', 'Time', 'Author', 'Message'])\n",
    "\n",
    "for file in textfiles:\n",
    "    data=data.append(construct_dataframe(data, file))\n",
    "\n",
    "newdata=data.drop(columns=['Date', 'Time'])\n",
    "newdata.to_csv('./dataset/whatsapp_df.csv', index = False)"
   ]
  }
 ],
 "metadata": {
  "kernelspec": {
   "display_name": "Python 3",
   "language": "python",
   "name": "python3"
  },
  "language_info": {
   "codemirror_mode": {
    "name": "ipython",
    "version": 3
   },
   "file_extension": ".py",
   "mimetype": "text/x-python",
   "name": "python",
   "nbconvert_exporter": "python",
   "pygments_lexer": "ipython3",
   "version": "3.6.9"
  }
 },
 "nbformat": 4,
 "nbformat_minor": 2
}
